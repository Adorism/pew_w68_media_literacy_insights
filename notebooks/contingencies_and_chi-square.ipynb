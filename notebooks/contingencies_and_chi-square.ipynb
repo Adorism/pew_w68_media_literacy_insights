{
 "cells": [
  {
   "cell_type": "code",
   "execution_count": 1,
   "id": "interracial-variation",
   "metadata": {},
   "outputs": [],
   "source": [
    "import pandas as pd\n",
    "import numpy as np\n",
    "import pyreadstat\n",
    "import matplotlib.pyplot as plt\n",
    "from scipy import stats\n",
    "import seaborn as sns\n",
    "\n",
    "%matplotlib inline"
   ]
  },
  {
   "cell_type": "code",
   "execution_count": 2,
   "id": "portable-microwave",
   "metadata": {},
   "outputs": [],
   "source": [
    "w68spss, metaspss = pyreadstat.read_sav('~/Desktop/cap1/pew_w68_media_literacy_insights/data/W68.sav'\n",
    "                                        , apply_value_formats = True\n",
    "                                        , formats_as_category = True )"
   ]
  },
  {
   "cell_type": "code",
   "execution_count": 3,
   "id": "virgin-tribute",
   "metadata": {},
   "outputs": [],
   "source": [
    "fields = ['QKEY', \n",
    "          'COVIDFOL_W68', \n",
    "          'COVIDCOVER1_W68', \n",
    "          'COVIDFACTS_b_W68', \n",
    "          'COVIDNEWSCHNG_a_W68', \n",
    "          'COVIDNEWSCHNG_c_W68', \n",
    "          'COVIDNEWSCHNG_e_W68', \n",
    "          'COVIDNEWSCHNG_d_W68', \n",
    "          'COVIDINFODIFF_W68', \n",
    "          'COVIDLOCINFO_W68', \n",
    "          'COVIDPLANHRD_W68', \n",
    "          'COVIDPLANTRUE_W68', \n",
    "          'COVIDPLANWATCH_W68', \n",
    "          'F_METRO', \n",
    "          'F_EDUCCAT', \n",
    "          'F_PARTY_FINAL']"
   ]
  },
  {
   "cell_type": "code",
   "execution_count": 4,
   "id": "saving-stand",
   "metadata": {},
   "outputs": [],
   "source": [
    "df68 = pd.read_spss('~/Desktop/cap1/pew_w68_media_literacy_insights/data/W68.sav', usecols=fields)"
   ]
  },
  {
   "cell_type": "code",
   "execution_count": 7,
   "id": "complex-shield",
   "metadata": {},
   "outputs": [
    {
     "name": "stdout",
     "output_type": "stream",
     "text": [
      "chi2:  0.08596866199545061\n",
      "p-value:  0.9991022251365534\n",
      "Degrees of Freedom:  4\n"
     ]
    }
   ],
   "source": [
    "edu_follow = pd.crosstab([df68.F_EDUCCAT], [df68.COVIDFOL_W68], normalize='index')\n",
    "(chi2, p, dof, _) = stats.chi2_contingency([edu_follow.iloc[0].values,edu_follow.iloc[1].values])\n",
    "print('chi2: ', chi2)\n",
    "print('p-value: ', p)\n",
    "print('Degrees of Freedom: ', dof)"
   ]
  },
  {
   "cell_type": "code",
   "execution_count": null,
   "id": "expressed-tomato",
   "metadata": {},
   "outputs": [],
   "source": []
  },
  {
   "cell_type": "code",
   "execution_count": null,
   "id": "alpha-loading",
   "metadata": {},
   "outputs": [],
   "source": []
  },
  {
   "cell_type": "code",
   "execution_count": null,
   "id": "major-profile",
   "metadata": {},
   "outputs": [],
   "source": []
  },
  {
   "cell_type": "code",
   "execution_count": null,
   "id": "featured-breeding",
   "metadata": {},
   "outputs": [],
   "source": []
  },
  {
   "cell_type": "code",
   "execution_count": null,
   "id": "fallen-bronze",
   "metadata": {},
   "outputs": [],
   "source": []
  },
  {
   "cell_type": "code",
   "execution_count": null,
   "id": "opened-jacksonville",
   "metadata": {},
   "outputs": [],
   "source": []
  },
  {
   "cell_type": "code",
   "execution_count": null,
   "id": "harmful-palace",
   "metadata": {},
   "outputs": [],
   "source": []
  },
  {
   "cell_type": "code",
   "execution_count": null,
   "id": "sexual-henry",
   "metadata": {},
   "outputs": [],
   "source": []
  },
  {
   "cell_type": "code",
   "execution_count": null,
   "id": "weighted-mitchell",
   "metadata": {},
   "outputs": [],
   "source": []
  },
  {
   "cell_type": "code",
   "execution_count": null,
   "id": "modified-collect",
   "metadata": {},
   "outputs": [],
   "source": []
  },
  {
   "cell_type": "code",
   "execution_count": null,
   "id": "refined-least",
   "metadata": {},
   "outputs": [],
   "source": []
  }
 ],
 "metadata": {
  "kernelspec": {
   "display_name": "Python 3",
   "language": "python",
   "name": "python3"
  },
  "language_info": {
   "codemirror_mode": {
    "name": "ipython",
    "version": 3
   },
   "file_extension": ".py",
   "mimetype": "text/x-python",
   "name": "python",
   "nbconvert_exporter": "python",
   "pygments_lexer": "ipython3",
   "version": "3.8.2"
  }
 },
 "nbformat": 4,
 "nbformat_minor": 5
}
