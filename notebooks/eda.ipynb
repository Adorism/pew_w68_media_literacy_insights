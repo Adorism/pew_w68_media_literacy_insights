{
 "cells": [
  {
   "cell_type": "code",
   "execution_count": 1,
   "id": "received-championship",
   "metadata": {},
   "outputs": [],
   "source": [
    "import pandas as pd\n",
    "import numpy as np\n",
    "import pyreadstat\n",
    "import matplotlib.pyplot as plt\n",
    "import seaborn as sns\n",
    "\n",
    "%matplotlib inline"
   ]
  },
  {
   "cell_type": "code",
   "execution_count": 2,
   "id": "searching-reliance",
   "metadata": {},
   "outputs": [],
   "source": [
    "w68spssord, metapassord = pyreadstat.read_sav('~/Desktop/cap1/pew_w68_media_literacy_insights/data/W68.sav')"
   ]
  },
  {
   "cell_type": "code",
   "execution_count": 3,
   "id": "amber-charles",
   "metadata": {},
   "outputs": [
    {
     "data": {
      "text/html": [
       "<div>\n",
       "<style scoped>\n",
       "    .dataframe tbody tr th:only-of-type {\n",
       "        vertical-align: middle;\n",
       "    }\n",
       "\n",
       "    .dataframe tbody tr th {\n",
       "        vertical-align: top;\n",
       "    }\n",
       "\n",
       "    .dataframe thead th {\n",
       "        text-align: right;\n",
       "    }\n",
       "</style>\n",
       "<table border=\"1\" class=\"dataframe\">\n",
       "  <thead>\n",
       "    <tr style=\"text-align: right;\">\n",
       "      <th></th>\n",
       "      <th>QKEY</th>\n",
       "      <th>INTERVIEW_START_W68</th>\n",
       "      <th>INTERVIEW_END_W68</th>\n",
       "      <th>DEVICE_TYPE_W68</th>\n",
       "      <th>LANG_W68</th>\n",
       "      <th>FLOYDFOL_W68</th>\n",
       "      <th>FLOYDDISC_W68</th>\n",
       "      <th>FLOYDCOVER_W68</th>\n",
       "      <th>FLOYDATTN_W68</th>\n",
       "      <th>FLOYDATTN2_a_W68</th>\n",
       "      <th>...</th>\n",
       "      <th>F_REG</th>\n",
       "      <th>F_IDEO</th>\n",
       "      <th>F_ACSWEB</th>\n",
       "      <th>F_VOLSUM</th>\n",
       "      <th>F_INC_TIER2</th>\n",
       "      <th>F_HISP_ORIGIN</th>\n",
       "      <th>F_YEARSINUS</th>\n",
       "      <th>F_PARTYSUMIDEO</th>\n",
       "      <th>FLAG_W68</th>\n",
       "      <th>WEIGHT_W68</th>\n",
       "    </tr>\n",
       "  </thead>\n",
       "  <tbody>\n",
       "    <tr>\n",
       "      <th>0</th>\n",
       "      <td>1.001970e+05</td>\n",
       "      <td>2020-06-07 01:05:26</td>\n",
       "      <td>2020-06-07 19:16:00</td>\n",
       "      <td>3.0</td>\n",
       "      <td>1.0</td>\n",
       "      <td>2.0</td>\n",
       "      <td>3.0</td>\n",
       "      <td>1.0</td>\n",
       "      <td>3.0</td>\n",
       "      <td>3.0</td>\n",
       "      <td>...</td>\n",
       "      <td>1.0</td>\n",
       "      <td>3.0</td>\n",
       "      <td>1.0</td>\n",
       "      <td>1.0</td>\n",
       "      <td>2.0</td>\n",
       "      <td>6.0</td>\n",
       "      <td>1.0</td>\n",
       "      <td>3.0</td>\n",
       "      <td>2.0</td>\n",
       "      <td>0.312835</td>\n",
       "    </tr>\n",
       "    <tr>\n",
       "      <th>1</th>\n",
       "      <td>1.002600e+05</td>\n",
       "      <td>2020-06-07 01:35:17</td>\n",
       "      <td>2020-06-07 01:58:45</td>\n",
       "      <td>3.0</td>\n",
       "      <td>1.0</td>\n",
       "      <td>2.0</td>\n",
       "      <td>3.0</td>\n",
       "      <td>4.0</td>\n",
       "      <td>3.0</td>\n",
       "      <td>3.0</td>\n",
       "      <td>...</td>\n",
       "      <td>1.0</td>\n",
       "      <td>1.0</td>\n",
       "      <td>1.0</td>\n",
       "      <td>2.0</td>\n",
       "      <td>2.0</td>\n",
       "      <td>6.0</td>\n",
       "      <td>1.0</td>\n",
       "      <td>1.0</td>\n",
       "      <td>2.0</td>\n",
       "      <td>0.649902</td>\n",
       "    </tr>\n",
       "    <tr>\n",
       "      <th>2</th>\n",
       "      <td>1.003140e+05</td>\n",
       "      <td>2020-06-06 13:29:46</td>\n",
       "      <td>2020-06-06 13:50:23</td>\n",
       "      <td>2.0</td>\n",
       "      <td>1.0</td>\n",
       "      <td>2.0</td>\n",
       "      <td>4.0</td>\n",
       "      <td>2.0</td>\n",
       "      <td>3.0</td>\n",
       "      <td>1.0</td>\n",
       "      <td>...</td>\n",
       "      <td>1.0</td>\n",
       "      <td>3.0</td>\n",
       "      <td>1.0</td>\n",
       "      <td>1.0</td>\n",
       "      <td>2.0</td>\n",
       "      <td>6.0</td>\n",
       "      <td>1.0</td>\n",
       "      <td>2.0</td>\n",
       "      <td>2.0</td>\n",
       "      <td>0.432899</td>\n",
       "    </tr>\n",
       "    <tr>\n",
       "      <th>3</th>\n",
       "      <td>1.003630e+05</td>\n",
       "      <td>2020-06-05 17:46:39</td>\n",
       "      <td>2020-06-05 17:57:00</td>\n",
       "      <td>2.0</td>\n",
       "      <td>1.0</td>\n",
       "      <td>2.0</td>\n",
       "      <td>3.0</td>\n",
       "      <td>3.0</td>\n",
       "      <td>3.0</td>\n",
       "      <td>2.0</td>\n",
       "      <td>...</td>\n",
       "      <td>1.0</td>\n",
       "      <td>3.0</td>\n",
       "      <td>1.0</td>\n",
       "      <td>1.0</td>\n",
       "      <td>3.0</td>\n",
       "      <td>6.0</td>\n",
       "      <td>1.0</td>\n",
       "      <td>3.0</td>\n",
       "      <td>2.0</td>\n",
       "      <td>0.389315</td>\n",
       "    </tr>\n",
       "    <tr>\n",
       "      <th>4</th>\n",
       "      <td>1.004460e+05</td>\n",
       "      <td>2020-06-05 18:37:31</td>\n",
       "      <td>2020-06-05 18:49:38</td>\n",
       "      <td>1.0</td>\n",
       "      <td>1.0</td>\n",
       "      <td>2.0</td>\n",
       "      <td>2.0</td>\n",
       "      <td>2.0</td>\n",
       "      <td>3.0</td>\n",
       "      <td>3.0</td>\n",
       "      <td>...</td>\n",
       "      <td>1.0</td>\n",
       "      <td>4.0</td>\n",
       "      <td>1.0</td>\n",
       "      <td>1.0</td>\n",
       "      <td>2.0</td>\n",
       "      <td>6.0</td>\n",
       "      <td>1.0</td>\n",
       "      <td>4.0</td>\n",
       "      <td>2.0</td>\n",
       "      <td>0.284810</td>\n",
       "    </tr>\n",
       "    <tr>\n",
       "      <th>...</th>\n",
       "      <td>...</td>\n",
       "      <td>...</td>\n",
       "      <td>...</td>\n",
       "      <td>...</td>\n",
       "      <td>...</td>\n",
       "      <td>...</td>\n",
       "      <td>...</td>\n",
       "      <td>...</td>\n",
       "      <td>...</td>\n",
       "      <td>...</td>\n",
       "      <td>...</td>\n",
       "      <td>...</td>\n",
       "      <td>...</td>\n",
       "      <td>...</td>\n",
       "      <td>...</td>\n",
       "      <td>...</td>\n",
       "      <td>...</td>\n",
       "      <td>...</td>\n",
       "      <td>...</td>\n",
       "      <td>...</td>\n",
       "      <td>...</td>\n",
       "    </tr>\n",
       "    <tr>\n",
       "      <th>9649</th>\n",
       "      <td>2.019011e+11</td>\n",
       "      <td>2020-06-10 00:39:12</td>\n",
       "      <td>2020-06-10 00:48:50</td>\n",
       "      <td>2.0</td>\n",
       "      <td>1.0</td>\n",
       "      <td>2.0</td>\n",
       "      <td>2.0</td>\n",
       "      <td>4.0</td>\n",
       "      <td>1.0</td>\n",
       "      <td>3.0</td>\n",
       "      <td>...</td>\n",
       "      <td>1.0</td>\n",
       "      <td>5.0</td>\n",
       "      <td>1.0</td>\n",
       "      <td>2.0</td>\n",
       "      <td>1.0</td>\n",
       "      <td>3.0</td>\n",
       "      <td>1.0</td>\n",
       "      <td>4.0</td>\n",
       "      <td>2.0</td>\n",
       "      <td>0.134519</td>\n",
       "    </tr>\n",
       "    <tr>\n",
       "      <th>9650</th>\n",
       "      <td>2.019011e+11</td>\n",
       "      <td>2020-06-05 18:19:24</td>\n",
       "      <td>2020-06-05 18:41:08</td>\n",
       "      <td>2.0</td>\n",
       "      <td>2.0</td>\n",
       "      <td>1.0</td>\n",
       "      <td>3.0</td>\n",
       "      <td>2.0</td>\n",
       "      <td>1.0</td>\n",
       "      <td>3.0</td>\n",
       "      <td>...</td>\n",
       "      <td>1.0</td>\n",
       "      <td>3.0</td>\n",
       "      <td>1.0</td>\n",
       "      <td>2.0</td>\n",
       "      <td>1.0</td>\n",
       "      <td>3.0</td>\n",
       "      <td>4.0</td>\n",
       "      <td>2.0</td>\n",
       "      <td>1.0</td>\n",
       "      <td>0.263669</td>\n",
       "    </tr>\n",
       "    <tr>\n",
       "      <th>9651</th>\n",
       "      <td>2.019011e+11</td>\n",
       "      <td>2020-06-05 17:39:48</td>\n",
       "      <td>2020-06-05 18:09:53</td>\n",
       "      <td>2.0</td>\n",
       "      <td>2.0</td>\n",
       "      <td>1.0</td>\n",
       "      <td>2.0</td>\n",
       "      <td>3.0</td>\n",
       "      <td>1.0</td>\n",
       "      <td>1.0</td>\n",
       "      <td>...</td>\n",
       "      <td>1.0</td>\n",
       "      <td>3.0</td>\n",
       "      <td>1.0</td>\n",
       "      <td>2.0</td>\n",
       "      <td>1.0</td>\n",
       "      <td>5.0</td>\n",
       "      <td>4.0</td>\n",
       "      <td>2.0</td>\n",
       "      <td>1.0</td>\n",
       "      <td>1.664526</td>\n",
       "    </tr>\n",
       "    <tr>\n",
       "      <th>9652</th>\n",
       "      <td>2.019011e+11</td>\n",
       "      <td>2020-06-09 15:47:03</td>\n",
       "      <td>2020-06-09 15:54:43</td>\n",
       "      <td>2.0</td>\n",
       "      <td>2.0</td>\n",
       "      <td>3.0</td>\n",
       "      <td>4.0</td>\n",
       "      <td>3.0</td>\n",
       "      <td>3.0</td>\n",
       "      <td>2.0</td>\n",
       "      <td>...</td>\n",
       "      <td>NaN</td>\n",
       "      <td>2.0</td>\n",
       "      <td>1.0</td>\n",
       "      <td>1.0</td>\n",
       "      <td>1.0</td>\n",
       "      <td>5.0</td>\n",
       "      <td>99.0</td>\n",
       "      <td>9.0</td>\n",
       "      <td>1.0</td>\n",
       "      <td>0.613067</td>\n",
       "    </tr>\n",
       "    <tr>\n",
       "      <th>9653</th>\n",
       "      <td>2.019011e+11</td>\n",
       "      <td>2020-06-07 22:49:40</td>\n",
       "      <td>2020-06-07 23:50:02</td>\n",
       "      <td>2.0</td>\n",
       "      <td>1.0</td>\n",
       "      <td>2.0</td>\n",
       "      <td>3.0</td>\n",
       "      <td>2.0</td>\n",
       "      <td>3.0</td>\n",
       "      <td>3.0</td>\n",
       "      <td>...</td>\n",
       "      <td>NaN</td>\n",
       "      <td>99.0</td>\n",
       "      <td>1.0</td>\n",
       "      <td>2.0</td>\n",
       "      <td>2.0</td>\n",
       "      <td>1.0</td>\n",
       "      <td>4.0</td>\n",
       "      <td>9.0</td>\n",
       "      <td>2.0</td>\n",
       "      <td>7.753641</td>\n",
       "    </tr>\n",
       "  </tbody>\n",
       "</table>\n",
       "<p>9654 rows × 146 columns</p>\n",
       "</div>"
      ],
      "text/plain": [
       "              QKEY INTERVIEW_START_W68   INTERVIEW_END_W68  DEVICE_TYPE_W68  \\\n",
       "0     1.001970e+05 2020-06-07 01:05:26 2020-06-07 19:16:00              3.0   \n",
       "1     1.002600e+05 2020-06-07 01:35:17 2020-06-07 01:58:45              3.0   \n",
       "2     1.003140e+05 2020-06-06 13:29:46 2020-06-06 13:50:23              2.0   \n",
       "3     1.003630e+05 2020-06-05 17:46:39 2020-06-05 17:57:00              2.0   \n",
       "4     1.004460e+05 2020-06-05 18:37:31 2020-06-05 18:49:38              1.0   \n",
       "...            ...                 ...                 ...              ...   \n",
       "9649  2.019011e+11 2020-06-10 00:39:12 2020-06-10 00:48:50              2.0   \n",
       "9650  2.019011e+11 2020-06-05 18:19:24 2020-06-05 18:41:08              2.0   \n",
       "9651  2.019011e+11 2020-06-05 17:39:48 2020-06-05 18:09:53              2.0   \n",
       "9652  2.019011e+11 2020-06-09 15:47:03 2020-06-09 15:54:43              2.0   \n",
       "9653  2.019011e+11 2020-06-07 22:49:40 2020-06-07 23:50:02              2.0   \n",
       "\n",
       "      LANG_W68  FLOYDFOL_W68  FLOYDDISC_W68  FLOYDCOVER_W68  FLOYDATTN_W68  \\\n",
       "0          1.0           2.0            3.0             1.0            3.0   \n",
       "1          1.0           2.0            3.0             4.0            3.0   \n",
       "2          1.0           2.0            4.0             2.0            3.0   \n",
       "3          1.0           2.0            3.0             3.0            3.0   \n",
       "4          1.0           2.0            2.0             2.0            3.0   \n",
       "...        ...           ...            ...             ...            ...   \n",
       "9649       1.0           2.0            2.0             4.0            1.0   \n",
       "9650       2.0           1.0            3.0             2.0            1.0   \n",
       "9651       2.0           1.0            2.0             3.0            1.0   \n",
       "9652       2.0           3.0            4.0             3.0            3.0   \n",
       "9653       1.0           2.0            3.0             2.0            3.0   \n",
       "\n",
       "      FLOYDATTN2_a_W68  ...  F_REG  F_IDEO  F_ACSWEB  F_VOLSUM  F_INC_TIER2  \\\n",
       "0                  3.0  ...    1.0     3.0       1.0       1.0          2.0   \n",
       "1                  3.0  ...    1.0     1.0       1.0       2.0          2.0   \n",
       "2                  1.0  ...    1.0     3.0       1.0       1.0          2.0   \n",
       "3                  2.0  ...    1.0     3.0       1.0       1.0          3.0   \n",
       "4                  3.0  ...    1.0     4.0       1.0       1.0          2.0   \n",
       "...                ...  ...    ...     ...       ...       ...          ...   \n",
       "9649               3.0  ...    1.0     5.0       1.0       2.0          1.0   \n",
       "9650               3.0  ...    1.0     3.0       1.0       2.0          1.0   \n",
       "9651               1.0  ...    1.0     3.0       1.0       2.0          1.0   \n",
       "9652               2.0  ...    NaN     2.0       1.0       1.0          1.0   \n",
       "9653               3.0  ...    NaN    99.0       1.0       2.0          2.0   \n",
       "\n",
       "      F_HISP_ORIGIN  F_YEARSINUS  F_PARTYSUMIDEO  FLAG_W68  WEIGHT_W68  \n",
       "0               6.0          1.0             3.0       2.0    0.312835  \n",
       "1               6.0          1.0             1.0       2.0    0.649902  \n",
       "2               6.0          1.0             2.0       2.0    0.432899  \n",
       "3               6.0          1.0             3.0       2.0    0.389315  \n",
       "4               6.0          1.0             4.0       2.0    0.284810  \n",
       "...             ...          ...             ...       ...         ...  \n",
       "9649            3.0          1.0             4.0       2.0    0.134519  \n",
       "9650            3.0          4.0             2.0       1.0    0.263669  \n",
       "9651            5.0          4.0             2.0       1.0    1.664526  \n",
       "9652            5.0         99.0             9.0       1.0    0.613067  \n",
       "9653            1.0          4.0             9.0       2.0    7.753641  \n",
       "\n",
       "[9654 rows x 146 columns]"
      ]
     },
     "execution_count": 3,
     "metadata": {},
     "output_type": "execute_result"
    }
   ],
   "source": [
    "w68spssord"
   ]
  },
  {
   "cell_type": "code",
   "execution_count": 4,
   "id": "invalid-oracle",
   "metadata": {},
   "outputs": [],
   "source": [
    "df68ord = pd.DataFrame(w68spssord)"
   ]
  },
  {
   "cell_type": "code",
   "execution_count": 5,
   "id": "operational-kelly",
   "metadata": {},
   "outputs": [],
   "source": [
    "w68spss, metaspss = pyreadstat.read_sav('~/Desktop/cap1/pew_w68_media_literacy_insights/data/W68.sav'\n",
    "                                        , apply_value_formats = True\n",
    "                                        , formats_as_category = True )"
   ]
  },
  {
   "cell_type": "code",
   "execution_count": 6,
   "id": "intelligent-hybrid",
   "metadata": {},
   "outputs": [],
   "source": [
    "fields = ['QKEY', 'COVIDFOL_W68', 'COVIDCOVER1_W68', 'COVIDDEAL_W68', 'COVIDNEWSCHNG_a_W68', 'COVIDNEWSCHNG_c_W68', 'COVIDNEWSCHNG_e_W68', 'COVIDNEWSCHNG_d_W68', 'COVIDINFODIFF_W68', 'COVIDCOUNT_W68', 'COVIDCOUNT2_W68', 'COVIDPLANHRD_W68', 'COVIDPLANTRUE_W68', 'COVIDPLANWATCH_W68', 'F_METRO', 'F_AGECAT', 'F_SEX', 'F_EDUCCAT', 'F_RACECMB', 'F_MARITAL', 'F_RELIG', 'F_PARTY_FINAL', 'F_INCOME' ]"
   ]
  },
  {
   "cell_type": "code",
   "execution_count": 7,
   "id": "russian-first",
   "metadata": {},
   "outputs": [],
   "source": [
    "df68 = pd.DataFrame(w68spss)"
   ]
  },
  {
   "cell_type": "code",
   "execution_count": 8,
   "id": "unlimited-plant",
   "metadata": {},
   "outputs": [],
   "source": [
    "df68 = pd.read_spss('~/Desktop/cap1/pew_w68_media_literacy_insights/data/W68.sav', usecols=fields)"
   ]
  },
  {
   "cell_type": "code",
   "execution_count": 9,
   "id": "sunrise-layer",
   "metadata": {},
   "outputs": [
    {
     "data": {
      "text/html": [
       "<div>\n",
       "<style scoped>\n",
       "    .dataframe tbody tr th:only-of-type {\n",
       "        vertical-align: middle;\n",
       "    }\n",
       "\n",
       "    .dataframe tbody tr th {\n",
       "        vertical-align: top;\n",
       "    }\n",
       "\n",
       "    .dataframe thead th {\n",
       "        text-align: right;\n",
       "    }\n",
       "</style>\n",
       "<table border=\"1\" class=\"dataframe\">\n",
       "  <thead>\n",
       "    <tr style=\"text-align: right;\">\n",
       "      <th></th>\n",
       "      <th>QKEY</th>\n",
       "      <th>COVIDFOL_W68</th>\n",
       "      <th>COVIDCOVER1_W68</th>\n",
       "      <th>COVIDDEAL_W68</th>\n",
       "      <th>COVIDNEWSCHNG_a_W68</th>\n",
       "      <th>COVIDNEWSCHNG_c_W68</th>\n",
       "      <th>COVIDNEWSCHNG_d_W68</th>\n",
       "      <th>COVIDNEWSCHNG_e_W68</th>\n",
       "      <th>COVIDINFODIFF_W68</th>\n",
       "      <th>COVIDCOUNT_W68</th>\n",
       "      <th>...</th>\n",
       "      <th>COVIDPLANWATCH_W68</th>\n",
       "      <th>F_METRO</th>\n",
       "      <th>F_AGECAT</th>\n",
       "      <th>F_SEX</th>\n",
       "      <th>F_EDUCCAT</th>\n",
       "      <th>F_RACECMB</th>\n",
       "      <th>F_MARITAL</th>\n",
       "      <th>F_RELIG</th>\n",
       "      <th>F_PARTY_FINAL</th>\n",
       "      <th>F_INCOME</th>\n",
       "    </tr>\n",
       "  </thead>\n",
       "  <tbody>\n",
       "    <tr>\n",
       "      <th>0</th>\n",
       "      <td>100197.0</td>\n",
       "      <td>Very closely</td>\n",
       "      <td>Very well</td>\n",
       "      <td>Made a SMALLER deal than it really is</td>\n",
       "      <td>Spending MORE time getting news about the outb...</td>\n",
       "      <td>Finding it EASIER to understand what is happen...</td>\n",
       "      <td>No change</td>\n",
       "      <td>Finding it EASIER to identify what is true and...</td>\n",
       "      <td>Difficult to determine what is true and what i...</td>\n",
       "      <td>A little higher than the actual number of deaths</td>\n",
       "      <td>...</td>\n",
       "      <td>NaN</td>\n",
       "      <td>Metropolitan</td>\n",
       "      <td>65+</td>\n",
       "      <td>Female</td>\n",
       "      <td>Some College</td>\n",
       "      <td>White</td>\n",
       "      <td>Divorced</td>\n",
       "      <td>Roman Catholic</td>\n",
       "      <td>Democrat</td>\n",
       "      <td>$20,000 to less than $30,000</td>\n",
       "    </tr>\n",
       "    <tr>\n",
       "      <th>1</th>\n",
       "      <td>100260.0</td>\n",
       "      <td>Fairly closely</td>\n",
       "      <td>Not too well</td>\n",
       "      <td>Made a BIGGER deal than it really is</td>\n",
       "      <td>No change</td>\n",
       "      <td>No change</td>\n",
       "      <td>No change</td>\n",
       "      <td>Finding it EASIER to identify what is true and...</td>\n",
       "      <td>Easy to determine what is true and what is not</td>\n",
       "      <td>A lot higher than the actual number of deaths</td>\n",
       "      <td>...</td>\n",
       "      <td>NaN</td>\n",
       "      <td>Metropolitan</td>\n",
       "      <td>65+</td>\n",
       "      <td>Male</td>\n",
       "      <td>College graduate+</td>\n",
       "      <td>White</td>\n",
       "      <td>Never been married</td>\n",
       "      <td>Nothing in particular</td>\n",
       "      <td>Republican</td>\n",
       "      <td>$50,000 to less than $75,000</td>\n",
       "    </tr>\n",
       "    <tr>\n",
       "      <th>2</th>\n",
       "      <td>100314.0</td>\n",
       "      <td>Very closely</td>\n",
       "      <td>Somewhat well</td>\n",
       "      <td>Approached about right</td>\n",
       "      <td>No change</td>\n",
       "      <td>No change</td>\n",
       "      <td>Seeing FEWER partisan viewpoints in the news a...</td>\n",
       "      <td>Finding it HARDER to identify what is true and...</td>\n",
       "      <td>Easy to determine what is true and what is not</td>\n",
       "      <td>A little higher than the actual number of deaths</td>\n",
       "      <td>...</td>\n",
       "      <td>No, did not watch it</td>\n",
       "      <td>Non-metropolitan</td>\n",
       "      <td>65+</td>\n",
       "      <td>Male</td>\n",
       "      <td>Some College</td>\n",
       "      <td>White</td>\n",
       "      <td>Living with a partner</td>\n",
       "      <td>Protestant</td>\n",
       "      <td>Republican</td>\n",
       "      <td>$30,000 to less than $40,000</td>\n",
       "    </tr>\n",
       "    <tr>\n",
       "      <th>3</th>\n",
       "      <td>100363.0</td>\n",
       "      <td>Very closely</td>\n",
       "      <td>Somewhat well</td>\n",
       "      <td>Approached about right</td>\n",
       "      <td>Spending LESS time getting news about the outb...</td>\n",
       "      <td>Finding it HARDER to understand what is happen...</td>\n",
       "      <td>Seeing FEWER partisan viewpoints in the news a...</td>\n",
       "      <td>No change</td>\n",
       "      <td>Difficult to determine what is true and what i...</td>\n",
       "      <td>A little higher than the actual number of deaths</td>\n",
       "      <td>...</td>\n",
       "      <td>NaN</td>\n",
       "      <td>Metropolitan</td>\n",
       "      <td>30-49</td>\n",
       "      <td>Female</td>\n",
       "      <td>College graduate+</td>\n",
       "      <td>White</td>\n",
       "      <td>Married</td>\n",
       "      <td>Roman Catholic</td>\n",
       "      <td>Democrat</td>\n",
       "      <td>$150,000 or more</td>\n",
       "    </tr>\n",
       "    <tr>\n",
       "      <th>4</th>\n",
       "      <td>100446.0</td>\n",
       "      <td>Fairly closely</td>\n",
       "      <td>Somewhat well</td>\n",
       "      <td>Made a SMALLER deal than it really is</td>\n",
       "      <td>Spending LESS time getting news about the outb...</td>\n",
       "      <td>Finding it EASIER to understand what is happen...</td>\n",
       "      <td>No change</td>\n",
       "      <td>Finding it EASIER to identify what is true and...</td>\n",
       "      <td>Easy to determine what is true and what is not</td>\n",
       "      <td>A little lower than the actual number of deaths</td>\n",
       "      <td>...</td>\n",
       "      <td>No, did not watch it</td>\n",
       "      <td>Metropolitan</td>\n",
       "      <td>50-64</td>\n",
       "      <td>Female</td>\n",
       "      <td>College graduate+</td>\n",
       "      <td>Asian or Asian-American</td>\n",
       "      <td>Never been married</td>\n",
       "      <td>Other</td>\n",
       "      <td>Democrat</td>\n",
       "      <td>$100,000 to less than $150,000</td>\n",
       "    </tr>\n",
       "  </tbody>\n",
       "</table>\n",
       "<p>5 rows × 23 columns</p>\n",
       "</div>"
      ],
      "text/plain": [
       "       QKEY    COVIDFOL_W68 COVIDCOVER1_W68  \\\n",
       "0  100197.0    Very closely       Very well   \n",
       "1  100260.0  Fairly closely    Not too well   \n",
       "2  100314.0    Very closely   Somewhat well   \n",
       "3  100363.0    Very closely   Somewhat well   \n",
       "4  100446.0  Fairly closely   Somewhat well   \n",
       "\n",
       "                           COVIDDEAL_W68  \\\n",
       "0  Made a SMALLER deal than it really is   \n",
       "1   Made a BIGGER deal than it really is   \n",
       "2                 Approached about right   \n",
       "3                 Approached about right   \n",
       "4  Made a SMALLER deal than it really is   \n",
       "\n",
       "                                 COVIDNEWSCHNG_a_W68  \\\n",
       "0  Spending MORE time getting news about the outb...   \n",
       "1                                          No change   \n",
       "2                                          No change   \n",
       "3  Spending LESS time getting news about the outb...   \n",
       "4  Spending LESS time getting news about the outb...   \n",
       "\n",
       "                                 COVIDNEWSCHNG_c_W68  \\\n",
       "0  Finding it EASIER to understand what is happen...   \n",
       "1                                          No change   \n",
       "2                                          No change   \n",
       "3  Finding it HARDER to understand what is happen...   \n",
       "4  Finding it EASIER to understand what is happen...   \n",
       "\n",
       "                                 COVIDNEWSCHNG_d_W68  \\\n",
       "0                                          No change   \n",
       "1                                          No change   \n",
       "2  Seeing FEWER partisan viewpoints in the news a...   \n",
       "3  Seeing FEWER partisan viewpoints in the news a...   \n",
       "4                                          No change   \n",
       "\n",
       "                                 COVIDNEWSCHNG_e_W68  \\\n",
       "0  Finding it EASIER to identify what is true and...   \n",
       "1  Finding it EASIER to identify what is true and...   \n",
       "2  Finding it HARDER to identify what is true and...   \n",
       "3                                          No change   \n",
       "4  Finding it EASIER to identify what is true and...   \n",
       "\n",
       "                                   COVIDINFODIFF_W68  \\\n",
       "0  Difficult to determine what is true and what i...   \n",
       "1     Easy to determine what is true and what is not   \n",
       "2     Easy to determine what is true and what is not   \n",
       "3  Difficult to determine what is true and what i...   \n",
       "4     Easy to determine what is true and what is not   \n",
       "\n",
       "                                     COVIDCOUNT_W68  ...  \\\n",
       "0  A little higher than the actual number of deaths  ...   \n",
       "1     A lot higher than the actual number of deaths  ...   \n",
       "2  A little higher than the actual number of deaths  ...   \n",
       "3  A little higher than the actual number of deaths  ...   \n",
       "4   A little lower than the actual number of deaths  ...   \n",
       "\n",
       "     COVIDPLANWATCH_W68           F_METRO F_AGECAT   F_SEX          F_EDUCCAT  \\\n",
       "0                   NaN      Metropolitan      65+  Female       Some College   \n",
       "1                   NaN      Metropolitan      65+    Male  College graduate+   \n",
       "2  No, did not watch it  Non-metropolitan      65+    Male       Some College   \n",
       "3                   NaN      Metropolitan    30-49  Female  College graduate+   \n",
       "4  No, did not watch it      Metropolitan    50-64  Female  College graduate+   \n",
       "\n",
       "                 F_RACECMB              F_MARITAL                F_RELIG  \\\n",
       "0                    White               Divorced         Roman Catholic   \n",
       "1                    White     Never been married  Nothing in particular   \n",
       "2                    White  Living with a partner             Protestant   \n",
       "3                    White                Married         Roman Catholic   \n",
       "4  Asian or Asian-American     Never been married                  Other   \n",
       "\n",
       "  F_PARTY_FINAL                        F_INCOME  \n",
       "0      Democrat    $20,000 to less than $30,000  \n",
       "1    Republican    $50,000 to less than $75,000  \n",
       "2    Republican    $30,000 to less than $40,000  \n",
       "3      Democrat                $150,000 or more  \n",
       "4      Democrat  $100,000 to less than $150,000  \n",
       "\n",
       "[5 rows x 23 columns]"
      ]
     },
     "execution_count": 9,
     "metadata": {},
     "output_type": "execute_result"
    }
   ],
   "source": [
    "df68.head()"
   ]
  },
  {
   "cell_type": "code",
   "execution_count": 10,
   "id": "convenient-juvenile",
   "metadata": {},
   "outputs": [],
   "source": [
    "df68.columns = [x.lower() for x in df68.columns]"
   ]
  },
  {
   "cell_type": "code",
   "execution_count": 11,
   "id": "expressed-thriller",
   "metadata": {},
   "outputs": [
    {
     "data": {
      "text/html": [
       "<div>\n",
       "<style scoped>\n",
       "    .dataframe tbody tr th:only-of-type {\n",
       "        vertical-align: middle;\n",
       "    }\n",
       "\n",
       "    .dataframe tbody tr th {\n",
       "        vertical-align: top;\n",
       "    }\n",
       "\n",
       "    .dataframe thead th {\n",
       "        text-align: right;\n",
       "    }\n",
       "</style>\n",
       "<table border=\"1\" class=\"dataframe\">\n",
       "  <thead>\n",
       "    <tr style=\"text-align: right;\">\n",
       "      <th></th>\n",
       "      <th>qkey</th>\n",
       "      <th>covidfol_w68</th>\n",
       "      <th>covidcover1_w68</th>\n",
       "      <th>coviddeal_w68</th>\n",
       "      <th>covidnewschng_a_w68</th>\n",
       "      <th>covidnewschng_c_w68</th>\n",
       "      <th>covidnewschng_d_w68</th>\n",
       "      <th>covidnewschng_e_w68</th>\n",
       "      <th>covidinfodiff_w68</th>\n",
       "      <th>covidcount_w68</th>\n",
       "      <th>...</th>\n",
       "      <th>covidplanwatch_w68</th>\n",
       "      <th>f_metro</th>\n",
       "      <th>f_agecat</th>\n",
       "      <th>f_sex</th>\n",
       "      <th>f_educcat</th>\n",
       "      <th>f_racecmb</th>\n",
       "      <th>f_marital</th>\n",
       "      <th>f_relig</th>\n",
       "      <th>f_party_final</th>\n",
       "      <th>f_income</th>\n",
       "    </tr>\n",
       "  </thead>\n",
       "  <tbody>\n",
       "    <tr>\n",
       "      <th>9649</th>\n",
       "      <td>2.019011e+11</td>\n",
       "      <td>Fairly closely</td>\n",
       "      <td>Not too well</td>\n",
       "      <td>Made a SMALLER deal than it really is</td>\n",
       "      <td>Spending MORE time getting news about the outb...</td>\n",
       "      <td>Finding it HARDER to understand what is happen...</td>\n",
       "      <td>Seeing MORE partisan viewpoints in the news ab...</td>\n",
       "      <td>Finding it HARDER to identify what is true and...</td>\n",
       "      <td>Difficult to determine what is true and what i...</td>\n",
       "      <td>A lot lower than the actual number of deaths</td>\n",
       "      <td>...</td>\n",
       "      <td>No, did not watch it</td>\n",
       "      <td>Metropolitan</td>\n",
       "      <td>18-29</td>\n",
       "      <td>Female</td>\n",
       "      <td>College graduate+</td>\n",
       "      <td>White</td>\n",
       "      <td>Never been married</td>\n",
       "      <td>Roman Catholic</td>\n",
       "      <td>Democrat</td>\n",
       "      <td>$10,000 to less than $20,000</td>\n",
       "    </tr>\n",
       "    <tr>\n",
       "      <th>9650</th>\n",
       "      <td>2.019011e+11</td>\n",
       "      <td>Very closely</td>\n",
       "      <td>Very well</td>\n",
       "      <td>Made a BIGGER deal than it really is</td>\n",
       "      <td>Spending LESS time getting news about the outb...</td>\n",
       "      <td>Finding it EASIER to understand what is happen...</td>\n",
       "      <td>No change</td>\n",
       "      <td>Finding it EASIER to identify what is true and...</td>\n",
       "      <td>Refused</td>\n",
       "      <td>About right</td>\n",
       "      <td>...</td>\n",
       "      <td>No, did not watch it</td>\n",
       "      <td>Metropolitan</td>\n",
       "      <td>50-64</td>\n",
       "      <td>Female</td>\n",
       "      <td>H.S. graduate or less</td>\n",
       "      <td>Or some other race</td>\n",
       "      <td>Living with a partner</td>\n",
       "      <td>Roman Catholic</td>\n",
       "      <td>Republican</td>\n",
       "      <td>Less than $10,000</td>\n",
       "    </tr>\n",
       "    <tr>\n",
       "      <th>9651</th>\n",
       "      <td>2.019011e+11</td>\n",
       "      <td>Very closely</td>\n",
       "      <td>Very well</td>\n",
       "      <td>Approached about right</td>\n",
       "      <td>Spending MORE time getting news about the outb...</td>\n",
       "      <td>No change</td>\n",
       "      <td>Seeing FEWER partisan viewpoints in the news a...</td>\n",
       "      <td>Finding it EASIER to identify what is true and...</td>\n",
       "      <td>Easy to determine what is true and what is not</td>\n",
       "      <td>A lot higher than the actual number of deaths</td>\n",
       "      <td>...</td>\n",
       "      <td>No, did not watch it</td>\n",
       "      <td>Metropolitan</td>\n",
       "      <td>50-64</td>\n",
       "      <td>Male</td>\n",
       "      <td>H.S. graduate or less</td>\n",
       "      <td>White</td>\n",
       "      <td>Married</td>\n",
       "      <td>Roman Catholic</td>\n",
       "      <td>Independent</td>\n",
       "      <td>$30,000 to less than $40,000</td>\n",
       "    </tr>\n",
       "    <tr>\n",
       "      <th>9652</th>\n",
       "      <td>2.019011e+11</td>\n",
       "      <td>Not at all closely</td>\n",
       "      <td>Not too well</td>\n",
       "      <td>Made a SMALLER deal than it really is</td>\n",
       "      <td>Spending LESS time getting news about the outb...</td>\n",
       "      <td>Finding it EASIER to understand what is happen...</td>\n",
       "      <td>Seeing FEWER partisan viewpoints in the news a...</td>\n",
       "      <td>Finding it EASIER to identify what is true and...</td>\n",
       "      <td>Difficult to determine what is true and what i...</td>\n",
       "      <td>About right</td>\n",
       "      <td>...</td>\n",
       "      <td>NaN</td>\n",
       "      <td>Metropolitan</td>\n",
       "      <td>18-29</td>\n",
       "      <td>Female</td>\n",
       "      <td>H.S. graduate or less</td>\n",
       "      <td>Mixed Race</td>\n",
       "      <td>Living with a partner</td>\n",
       "      <td>Protestant</td>\n",
       "      <td>Something else</td>\n",
       "      <td>$20,000 to less than $30,000</td>\n",
       "    </tr>\n",
       "    <tr>\n",
       "      <th>9653</th>\n",
       "      <td>2.019011e+11</td>\n",
       "      <td>Fairly closely</td>\n",
       "      <td>Very well</td>\n",
       "      <td>Approached about right</td>\n",
       "      <td>Spending LESS time getting news about the outb...</td>\n",
       "      <td>Finding it EASIER to understand what is happen...</td>\n",
       "      <td>No change</td>\n",
       "      <td>No change</td>\n",
       "      <td>Difficult to determine what is true and what i...</td>\n",
       "      <td>A little higher than the actual number of deaths</td>\n",
       "      <td>...</td>\n",
       "      <td>No, did not watch it</td>\n",
       "      <td>Metropolitan</td>\n",
       "      <td>50-64</td>\n",
       "      <td>Male</td>\n",
       "      <td>H.S. graduate or less</td>\n",
       "      <td>Refused</td>\n",
       "      <td>Married</td>\n",
       "      <td>Protestant</td>\n",
       "      <td>Something else</td>\n",
       "      <td>$50,000 to less than $75,000</td>\n",
       "    </tr>\n",
       "  </tbody>\n",
       "</table>\n",
       "<p>5 rows × 23 columns</p>\n",
       "</div>"
      ],
      "text/plain": [
       "              qkey        covidfol_w68 covidcover1_w68  \\\n",
       "9649  2.019011e+11      Fairly closely    Not too well   \n",
       "9650  2.019011e+11        Very closely       Very well   \n",
       "9651  2.019011e+11        Very closely       Very well   \n",
       "9652  2.019011e+11  Not at all closely    Not too well   \n",
       "9653  2.019011e+11      Fairly closely       Very well   \n",
       "\n",
       "                              coviddeal_w68  \\\n",
       "9649  Made a SMALLER deal than it really is   \n",
       "9650   Made a BIGGER deal than it really is   \n",
       "9651                 Approached about right   \n",
       "9652  Made a SMALLER deal than it really is   \n",
       "9653                 Approached about right   \n",
       "\n",
       "                                    covidnewschng_a_w68  \\\n",
       "9649  Spending MORE time getting news about the outb...   \n",
       "9650  Spending LESS time getting news about the outb...   \n",
       "9651  Spending MORE time getting news about the outb...   \n",
       "9652  Spending LESS time getting news about the outb...   \n",
       "9653  Spending LESS time getting news about the outb...   \n",
       "\n",
       "                                    covidnewschng_c_w68  \\\n",
       "9649  Finding it HARDER to understand what is happen...   \n",
       "9650  Finding it EASIER to understand what is happen...   \n",
       "9651                                          No change   \n",
       "9652  Finding it EASIER to understand what is happen...   \n",
       "9653  Finding it EASIER to understand what is happen...   \n",
       "\n",
       "                                    covidnewschng_d_w68  \\\n",
       "9649  Seeing MORE partisan viewpoints in the news ab...   \n",
       "9650                                          No change   \n",
       "9651  Seeing FEWER partisan viewpoints in the news a...   \n",
       "9652  Seeing FEWER partisan viewpoints in the news a...   \n",
       "9653                                          No change   \n",
       "\n",
       "                                    covidnewschng_e_w68  \\\n",
       "9649  Finding it HARDER to identify what is true and...   \n",
       "9650  Finding it EASIER to identify what is true and...   \n",
       "9651  Finding it EASIER to identify what is true and...   \n",
       "9652  Finding it EASIER to identify what is true and...   \n",
       "9653                                          No change   \n",
       "\n",
       "                                      covidinfodiff_w68  \\\n",
       "9649  Difficult to determine what is true and what i...   \n",
       "9650                                            Refused   \n",
       "9651     Easy to determine what is true and what is not   \n",
       "9652  Difficult to determine what is true and what i...   \n",
       "9653  Difficult to determine what is true and what i...   \n",
       "\n",
       "                                        covidcount_w68  ...  \\\n",
       "9649      A lot lower than the actual number of deaths  ...   \n",
       "9650                                       About right  ...   \n",
       "9651     A lot higher than the actual number of deaths  ...   \n",
       "9652                                       About right  ...   \n",
       "9653  A little higher than the actual number of deaths  ...   \n",
       "\n",
       "        covidplanwatch_w68       f_metro f_agecat   f_sex  \\\n",
       "9649  No, did not watch it  Metropolitan    18-29  Female   \n",
       "9650  No, did not watch it  Metropolitan    50-64  Female   \n",
       "9651  No, did not watch it  Metropolitan    50-64    Male   \n",
       "9652                   NaN  Metropolitan    18-29  Female   \n",
       "9653  No, did not watch it  Metropolitan    50-64    Male   \n",
       "\n",
       "                  f_educcat           f_racecmb              f_marital  \\\n",
       "9649      College graduate+               White     Never been married   \n",
       "9650  H.S. graduate or less  Or some other race  Living with a partner   \n",
       "9651  H.S. graduate or less               White                Married   \n",
       "9652  H.S. graduate or less          Mixed Race  Living with a partner   \n",
       "9653  H.S. graduate or less             Refused                Married   \n",
       "\n",
       "             f_relig   f_party_final                      f_income  \n",
       "9649  Roman Catholic        Democrat  $10,000 to less than $20,000  \n",
       "9650  Roman Catholic      Republican             Less than $10,000  \n",
       "9651  Roman Catholic     Independent  $30,000 to less than $40,000  \n",
       "9652      Protestant  Something else  $20,000 to less than $30,000  \n",
       "9653      Protestant  Something else  $50,000 to less than $75,000  \n",
       "\n",
       "[5 rows x 23 columns]"
      ]
     },
     "execution_count": 11,
     "metadata": {},
     "output_type": "execute_result"
    }
   ],
   "source": [
    "df68.tail()"
   ]
  },
  {
   "cell_type": "code",
   "execution_count": 12,
   "id": "involved-capability",
   "metadata": {},
   "outputs": [
    {
     "data": {
      "text/plain": [
       "Definitely NOT true    2229\n",
       "Probably NOT true      1952\n",
       "Probably true          1550\n",
       "Not sure                735\n",
       "Definitely true         342\n",
       "Refused                  10\n",
       "Name: covidplantrue_w68, dtype: int64"
      ]
     },
     "execution_count": 12,
     "metadata": {},
     "output_type": "execute_result"
    }
   ],
   "source": [
    "planbd = df68.covidplantrue_w68.value_counts(sort=True)\n",
    "planbd"
   ]
  },
  {
   "cell_type": "code",
   "execution_count": 13,
   "id": "anticipated-culture",
   "metadata": {},
   "outputs": [
    {
     "name": "stdout",
     "output_type": "stream",
     "text": [
      "6818\n"
     ]
    }
   ],
   "source": [
    "tot = 0\n",
    "for ct in planbd:\n",
    "    tot += ct\n",
    "    \n",
    "print(tot)"
   ]
  },
  {
   "cell_type": "code",
   "execution_count": 14,
   "id": "arranged-assembly",
   "metadata": {},
   "outputs": [
    {
     "data": {
      "text/plain": [
       "No, did not watch it       5829\n",
       "Yes, watched some of it     591\n",
       "Yes, watched all of it      376\n",
       "Refused                      22\n",
       "Name: covidplanwatch_w68, dtype: int64"
      ]
     },
     "execution_count": 14,
     "metadata": {},
     "output_type": "execute_result"
    }
   ],
   "source": [
    "plansee = df68.covidplanwatch_w68.value_counts(sort=True)\n",
    "plansee"
   ]
  },
  {
   "cell_type": "code",
   "execution_count": 15,
   "id": "fifth-christian",
   "metadata": {},
   "outputs": [
    {
     "data": {
      "text/plain": [
       "A little          5383\n",
       "Nothing at all    2797\n",
       "A lot             1435\n",
       "Refused             39\n",
       "Name: covidplanhrd_w68, dtype: int64"
      ]
     },
     "execution_count": 15,
     "metadata": {},
     "output_type": "execute_result"
    }
   ],
   "source": [
    "planhear = df68.covidplanhrd_w68.value_counts(sort=True)\n",
    "planhear"
   ]
  },
  {
   "cell_type": "code",
   "execution_count": 16,
   "id": "motivated-pride",
   "metadata": {},
   "outputs": [
    {
     "name": "stdout",
     "output_type": "stream",
     "text": [
      "9654\n"
     ]
    }
   ],
   "source": [
    "tot = 0\n",
    "for ct in planhear:\n",
    "    tot += ct\n",
    "    \n",
    "print(tot)"
   ]
  },
  {
   "cell_type": "markdown",
   "id": "generous-protection",
   "metadata": {},
   "source": [
    "matplotlib.pyplot.figure(num=None, figsize=None, dpi=None, facecolor=None, edgecolor=None, frameon=True, FigureClass=<class 'matplotlib.figure.Figure'>, clear=False, **kwargs)"
   ]
  },
  {
   "cell_type": "code",
   "execution_count": 17,
   "id": "indirect-segment",
   "metadata": {},
   "outputs": [
    {
     "data": {
      "image/png": "[encoded data removed]",
      "text/plain": [
       "<Figure size 432x288 with 1 Axes>"
      ]
     },
     "metadata": {},
     "output_type": "display_data"
    }
   ],
   "source": [
    "import matplotlib.pyplot as plt\n",
    "plantrue = df68['covidplanhrd_w68'].value_counts()\n",
    "sns.set(style=\"darkgrid\")\n",
    "sns.barplot(x = plantrue.index, y = plantrue.values, alpha=0.9)\n",
    "\n",
    "plt.title('How much have you heard of the \"Plandemic\" conspiracy theory?')\n",
    "plt.ylabel('Number of Respondents', fontsize=16)\n",
    "plt.xticks(rotation = 65)\n",
    "plt.xlabel('Response', fontsize=16)\n",
    "plt.show()"
   ]
  },
  {
   "cell_type": "markdown",
   "id": "exact-arkansas",
   "metadata": {},
   "source": [
    "Of all 9654 surveyed, 1432 had heard \"a lot\" about the theory portrayed in an online video entitled \"Plandemic\". That theory states that powerful people intentionally planned the coronavirus outbreak. I am curious about why certain people had hear a lot about this video and, as a follow-up to that question, of the people who had heard of this video, why might some of them have been more prone to believe the theory it proposed. "
   ]
  },
  {
   "cell_type": "code",
   "execution_count": 18,
   "id": "hollywood-desperate",
   "metadata": {},
   "outputs": [
    {
     "data": {
      "image/png": "[encoded data removed]",
      "text/plain": [
       "<Figure size 432x288 with 1 Axes>"
      ]
     },
     "metadata": {},
     "output_type": "display_data"
    }
   ],
   "source": [
    "import matplotlib.pyplot as plt\n",
    "planhrd = df68['covidplantrue_w68'].value_counts()\n",
    "sns.set(style=\"darkgrid\")\n",
    "sns.barplot(x = planhrd.index, y = planhrd.values, alpha=0.9)\n",
    "\n",
    "plt.title('Do You Think that \"Plandemic\" is true?')\n",
    "plt.ylabel('Number of Respondents', fontsize=16)\n",
    "plt.xticks(rotation = 65)\n",
    "plt.xlabel('Response', fontsize=16)\n",
    "plt.show()"
   ]
  },
  {
   "cell_type": "markdown",
   "id": "polyphonic-tattoo",
   "metadata": {},
   "source": [
    "This question was not posed to all those surveyed. In total, 6818 people answered this question. (Note to self, shouild I re-order the columns to Def NOT, Prob NOT, Prob true, Def true, not sure, refused?) Again, I notice that relatively few people believed this theory to be true, but a surprising amount of people thought that it could \"probably\" be true. What factors are involved in this belief? I am looking at not only demographics, but also other indicators as outlined in the survey questions. I am especially interested in the amound of news media consumed. Interestingly, this dataset includes several questions from previous waves that might be helpful in addressing these questions. They ask about news formats most often consumed, specific news outlets, and party alignment of the news that those surveyed most trust. "
   ]
  },
  {
   "cell_type": "markdown",
   "id": "mental-railway",
   "metadata": {},
   "source": [
    "This data is already in buckets.\n",
    "<br>\n",
    "If I were to look at one column such as 'f_agecat', I could run \"df68.f_agecat.head()\"\n",
    "<br>\n",
    "I would get an output listing the age brackets like this: \n",
    "```\n",
    "0      65+\n",
    "1      65+\n",
    "2      65+\n",
    "3    30-49\n",
    "4    50-64\n",
    "Name: f_agecat, dtype: category\n",
    "Categories (5, object): ['18-29', '30-49', '50-64', '65+', 'Refused']\n",
    "```"
   ]
  },
  {
   "cell_type": "code",
   "execution_count": 19,
   "id": "essential-content",
   "metadata": {},
   "outputs": [
    {
     "data": {
      "text/plain": [
       "0      65+\n",
       "1      65+\n",
       "2      65+\n",
       "3    30-49\n",
       "4    50-64\n",
       "Name: f_agecat, dtype: category\n",
       "Categories (5, object): ['18-29', '30-49', '50-64', '65+', 'Refused']"
      ]
     },
     "execution_count": 19,
     "metadata": {},
     "output_type": "execute_result"
    }
   ],
   "source": [
    "df68.f_agecat.head()"
   ]
  },
  {
   "cell_type": "markdown",
   "id": "collectible-corrections",
   "metadata": {},
   "source": [
    "I'm just keeping this call below to refer back to in case I needed to see this. It's a little frustrating, because the output is the column name and the first categorical title. What about the rest of them? Actually, looking back, I think it's because I have loc set to 0. "
   ]
  },
  {
   "cell_type": "code",
   "execution_count": 20,
   "id": "lightweight-analysis",
   "metadata": {},
   "outputs": [
    {
     "data": {
      "text/plain": [
       "covidfol_w68                                                Very closely\n",
       "covidcover1_w68                                                Very well\n",
       "coviddeal_w68                      Made a SMALLER deal than it really is\n",
       "covidnewschng_a_w68    Spending MORE time getting news about the outb...\n",
       "covidnewschng_c_w68    Finding it EASIER to understand what is happen...\n",
       "covidnewschng_d_w68                                            No change\n",
       "covidnewschng_e_w68    Finding it EASIER to identify what is true and...\n",
       "covidinfodiff_w68      Difficult to determine what is true and what i...\n",
       "covidcount_w68          A little higher than the actual number of deaths\n",
       "covidcount2_w68                                          Not intentional\n",
       "covidplanhrd_w68                                          Nothing at all\n",
       "covidplantrue_w68                                                    NaN\n",
       "covidplanwatch_w68                                                   NaN\n",
       "Name: 0, dtype: object"
      ]
     },
     "execution_count": 20,
     "metadata": {},
     "output_type": "execute_result"
    }
   ],
   "source": [
    "headers = df68.loc[0]\n",
    "headers[1:14]"
   ]
  },
  {
   "cell_type": "code",
   "execution_count": 21,
   "id": "pointed-regard",
   "metadata": {},
   "outputs": [
    {
     "data": {
      "text/plain": [
       "array(['Very closely', 'Very well',\n",
       "       'Made a SMALLER deal than it really is',\n",
       "       'Spending MORE time getting news about the outbreak',\n",
       "       'Finding it EASIER to understand what is happening with the outbreak',\n",
       "       'No change',\n",
       "       'Finding it EASIER to identify what is true and what is false about the outbreak',\n",
       "       'Difficult to determine what is true and what is not',\n",
       "       'A little higher than the actual number of deaths',\n",
       "       'Not intentional', 'Nothing at all', nan, nan], dtype=object)"
      ]
     },
     "execution_count": 21,
     "metadata": {},
     "output_type": "execute_result"
    }
   ],
   "source": [
    "headers[1:14].values"
   ]
  },
  {
   "cell_type": "markdown",
   "id": "selected-incentive",
   "metadata": {},
   "source": [
    "Ref for catplot video https://www.youtube.com/watch?v=vUmpqpb-FvA"
   ]
  },
  {
   "cell_type": "code",
   "execution_count": 22,
   "id": "dietary-modem",
   "metadata": {},
   "outputs": [
    {
     "name": "stderr",
     "output_type": "stream",
     "text": [
      "/opt/anaconda3/lib/python3.8/site-packages/seaborn/_decorators.py:36: FutureWarning: Pass the following variables as keyword args: x, y. From version 0.12, the only valid positional argument will be `data`, and passing other arguments without an explicit keyword will result in an error or misinterpretation.\n",
      "  warnings.warn(\n"
     ]
    },
    {
     "data": {
      "text/plain": [
       "<seaborn.axisgrid.FacetGrid at 0x7ffbe3f671c0>"
      ]
     },
     "execution_count": 22,
     "metadata": {},
     "output_type": "execute_result"
    },
    {
     "data": {
      "image/png": "[encoded data removed]",
      "text/plain": [
       "<Figure size 360x360 with 1 Axes>"
      ]
     },
     "metadata": {},
     "output_type": "display_data"
    }
   ],
   "source": [
    "age_follow = sns.catplot('covidfol_w68', 'f_agecat', data=df68)\n",
    "age_follow.fig.suptitle(\"How closely have you followed pandemic news?\")\n",
    "age_follow.set_xticklabels(rotation=30)"
   ]
  },
  {
   "cell_type": "markdown",
   "id": "massive-conjunction",
   "metadata": {},
   "source": [
    "This chart does not do what I had hoped it would, but it does give insights into the patterns of refusal to answer questions. There were no respondents who refused both of these questions. It appears that the older the respondent was, the more likely they were to refuse to answer this question. (Note to self, how can I change this ugly title location?)"
   ]
  },
  {
   "cell_type": "code",
   "execution_count": 23,
   "id": "continuous-contribution",
   "metadata": {},
   "outputs": [
    {
     "data": {
      "text/plain": [
       "<seaborn.axisgrid.FacetGrid at 0x7ffbe3f747c0>"
      ]
     },
     "execution_count": 23,
     "metadata": {},
     "output_type": "execute_result"
    },
    {
     "data": {
      "image/png": "[encoded data removed]",
      "text/plain": [
       "<Figure size 360x360 with 1 Axes>"
      ]
     },
     "metadata": {},
     "output_type": "display_data"
    }
   ],
   "source": [
    "sex_follow = sns.catplot('covidfol_w68', 'f_sex', data=df68)\n",
    "sex_follow.fig.suptitle(\"How closely have you followed pandemic news?\")\n",
    "sex_follow.set_xticklabels(rotation=30)"
   ]
  },
  {
   "cell_type": "code",
   "execution_count": 24,
   "id": "atomic-meeting",
   "metadata": {},
   "outputs": [
    {
     "data": {
      "text/plain": [
       "<seaborn.axisgrid.FacetGrid at 0x7ffbe4c2b790>"
      ]
     },
     "execution_count": 24,
     "metadata": {},
     "output_type": "execute_result"
    },
    {
     "data": {
      "image/png": "[encoded data removed]",
      "text/plain": [
       "<Figure size 360x360 with 1 Axes>"
      ]
     },
     "metadata": {},
     "output_type": "display_data"
    }
   ],
   "source": [
    "party_follow = sns.catplot('covidfol_w68', 'f_party_final', data=df68)\n",
    "party_follow.fig.suptitle(\"How closely have you followed pandemic news?\")\n",
    "party_follow.set_xticklabels(rotation=30)"
   ]
  },
  {
   "cell_type": "code",
   "execution_count": 25,
   "id": "instant-zoning",
   "metadata": {},
   "outputs": [
    {
     "data": {
      "text/plain": [
       "<seaborn.axisgrid.FacetGrid at 0x7ffbe4c849d0>"
      ]
     },
     "execution_count": 25,
     "metadata": {},
     "output_type": "execute_result"
    },
    {
     "data": {
      "image/png": "[encoded data removed]",
      "text/plain": [
       "<Figure size 360x360 with 1 Axes>"
      ]
     },
     "metadata": {},
     "output_type": "display_data"
    }
   ],
   "source": [
    "party_plan_true = sns.catplot('covidplantrue_w68', 'f_party_final', data=df68)\n",
    "party_plan_true.fig.suptitle(\"Do you think it's true that powerful people planned the pandemic?\")\n",
    "party_plan_true.set_xticklabels(rotation=30)"
   ]
  },
  {
   "cell_type": "code",
   "execution_count": 26,
   "id": "sexual-circulation",
   "metadata": {},
   "outputs": [
    {
     "data": {
      "image/png": "[encoded data removed]",
      "text/plain": [
       "<Figure size 475.6x360 with 1 Axes>"
      ]
     },
     "metadata": {},
     "output_type": "display_data"
    }
   ],
   "source": [
    "plan_party = sns.catplot(y= 'covidplantrue_w68',hue='f_party_final', kind=\"count\",\n",
    "            palette=\"deep\", edgecolor=\".6\",\n",
    "            data=df68)"
   ]
  },
  {
   "cell_type": "code",
   "execution_count": 27,
   "id": "incorrect-charleston",
   "metadata": {},
   "outputs": [
    {
     "data": {
      "text/plain": [
       "<seaborn.axisgrid.FacetGrid at 0x7ffbe62be850>"
      ]
     },
     "execution_count": 27,
     "metadata": {},
     "output_type": "execute_result"
    },
    {
     "data": {
      "image/png": "[encoded data removed]",
      "text/plain": [
       "<Figure size 360x360 with 1 Axes>"
      ]
     },
     "metadata": {},
     "output_type": "display_data"
    }
   ],
   "source": [
    "coverage_quality = sns.catplot(x='covidcover1_w68', kind=\"count\", palette=\"deep\", data = df68)\n",
    "coverage_quality.set_xticklabels(rotation=30)"
   ]
  },
  {
   "cell_type": "code",
   "execution_count": 28,
   "id": "dangerous-while",
   "metadata": {},
   "outputs": [
    {
     "data": {
      "image/png": "[encoded data removed]",
      "text/plain": [
       "<Figure size 475.6x360 with 1 Axes>"
      ]
     },
     "metadata": {},
     "output_type": "display_data"
    }
   ],
   "source": [
    "follow_party = sns.catplot(y= 'covidfol_w68',hue='f_party_final', kind=\"count\",\n",
    "            palette=\"deep\", edgecolor=\".6\",\n",
    "            data=df68)"
   ]
  },
  {
   "cell_type": "code",
   "execution_count": 29,
   "id": "compliant-special",
   "metadata": {},
   "outputs": [
    {
     "data": {
      "image/png": "[encoded data removed]",
      "text/plain": [
       "<Figure size 636.725x360 with 1 Axes>"
      ]
     },
     "metadata": {},
     "output_type": "display_data"
    }
   ],
   "source": [
    "difficulty_party = sns.catplot(y= 'f_party_final',hue='covidinfodiff_w68', kind=\"count\",\n",
    "            palette=\"deep\", edgecolor=\".6\",\n",
    "            data=df68)"
   ]
  },
  {
   "cell_type": "code",
   "execution_count": 30,
   "id": "according-stations",
   "metadata": {},
   "outputs": [
    {
     "data": {
      "image/png": "[encoded data removed]",
      "text/plain": [
       "<Figure size 587.975x360 with 1 Axes>"
      ]
     },
     "metadata": {},
     "output_type": "display_data"
    }
   ],
   "source": [
    "deal_party = sns.catplot(y= 'f_party_final',hue='coviddeal_w68', kind=\"count\",\n",
    "            palette=\"deep\", edgecolor=\".6\",\n",
    "            data=df68)"
   ]
  },
  {
   "cell_type": "markdown",
   "id": "relative-permission",
   "metadata": {},
   "source": [
    "Here, I just want to make a note for my plans. \n",
    "<br>\n",
    "I want to pick out some trends I notice from the plotting in order to apply some tests for statistical signifigance. "
   ]
  },
  {
   "cell_type": "markdown",
   "id": "covered-hawaii",
   "metadata": {},
   "source": [
    "note for classmates: seaborn catplot is potentially really useful. I am sure I could make more use of it if I better understood the implications of using ordinal values in a plot. Right now, although these categories approach ordinality, they are not suitable for many kinds of plots. I wonder if I could insert a value count for x or y to make it work. \n",
    "```sns.catplot(x=\"f_agecat\", y=\"coviddeal_w68\", hue=\"f_sex\",\n",
    "            col=\"f_party_final\", aspect=.7,\n",
    "            kind=\"swarm\", data=df68)```"
   ]
  },
  {
   "cell_type": "code",
   "execution_count": 31,
   "id": "lightweight-label",
   "metadata": {},
   "outputs": [
    {
     "data": {
      "text/html": [
       "<div>\n",
       "<style scoped>\n",
       "    .dataframe tbody tr th:only-of-type {\n",
       "        vertical-align: middle;\n",
       "    }\n",
       "\n",
       "    .dataframe tbody tr th {\n",
       "        vertical-align: top;\n",
       "    }\n",
       "\n",
       "    .dataframe thead th {\n",
       "        text-align: right;\n",
       "    }\n",
       "</style>\n",
       "<table border=\"1\" class=\"dataframe\">\n",
       "  <thead>\n",
       "    <tr style=\"text-align: right;\">\n",
       "      <th>f_educcat</th>\n",
       "      <th>College graduate+</th>\n",
       "      <th>H.S. graduate or less</th>\n",
       "      <th>Refused</th>\n",
       "      <th>Some College</th>\n",
       "    </tr>\n",
       "    <tr>\n",
       "      <th>covidfol_w68</th>\n",
       "      <th></th>\n",
       "      <th></th>\n",
       "      <th></th>\n",
       "      <th></th>\n",
       "    </tr>\n",
       "  </thead>\n",
       "  <tbody>\n",
       "    <tr>\n",
       "      <th>Fairly closely</th>\n",
       "      <td>0.546017</td>\n",
       "      <td>0.141974</td>\n",
       "      <td>0.002854</td>\n",
       "      <td>0.309156</td>\n",
       "    </tr>\n",
       "    <tr>\n",
       "      <th>Not at all closely</th>\n",
       "      <td>0.277778</td>\n",
       "      <td>0.425926</td>\n",
       "      <td>0.000000</td>\n",
       "      <td>0.296296</td>\n",
       "    </tr>\n",
       "    <tr>\n",
       "      <th>Not too closely</th>\n",
       "      <td>0.378066</td>\n",
       "      <td>0.258297</td>\n",
       "      <td>0.001443</td>\n",
       "      <td>0.362193</td>\n",
       "    </tr>\n",
       "    <tr>\n",
       "      <th>Refused</th>\n",
       "      <td>0.468750</td>\n",
       "      <td>0.156250</td>\n",
       "      <td>0.000000</td>\n",
       "      <td>0.375000</td>\n",
       "    </tr>\n",
       "    <tr>\n",
       "      <th>Very closely</th>\n",
       "      <td>0.612868</td>\n",
       "      <td>0.108536</td>\n",
       "      <td>0.001083</td>\n",
       "      <td>0.277513</td>\n",
       "    </tr>\n",
       "  </tbody>\n",
       "</table>\n",
       "</div>"
      ],
      "text/plain": [
       "f_educcat           College graduate+  H.S. graduate or less   Refused  \\\n",
       "covidfol_w68                                                             \n",
       "Fairly closely               0.546017               0.141974  0.002854   \n",
       "Not at all closely           0.277778               0.425926  0.000000   \n",
       "Not too closely              0.378066               0.258297  0.001443   \n",
       "Refused                      0.468750               0.156250  0.000000   \n",
       "Very closely                 0.612868               0.108536  0.001083   \n",
       "\n",
       "f_educcat           Some College  \n",
       "covidfol_w68                      \n",
       "Fairly closely          0.309156  \n",
       "Not at all closely      0.296296  \n",
       "Not too closely         0.362193  \n",
       "Refused                 0.375000  \n",
       "Very closely            0.277513  "
      ]
     },
     "execution_count": 31,
     "metadata": {},
     "output_type": "execute_result"
    }
   ],
   "source": [
    "edu_follow = pd.crosstab([df68.covidfol_w68], [df68.f_educcat], normalize='index')\n",
    "edu_follow"
   ]
  },
  {
   "cell_type": "markdown",
   "id": "victorian-transsexual",
   "metadata": {},
   "source": [
    "reference video on cross-tabulation or contingency tables https://www.youtube.com/watch?v=I_kUj-MfYys <br>\n",
    "also: reference video on chi squared https://www.youtube.com/watch?v=H9AULpvRxgM"
   ]
  },
  {
   "cell_type": "code",
   "execution_count": 32,
   "id": "caroline-adrian",
   "metadata": {},
   "outputs": [
    {
     "data": {
      "text/html": [
       "<div>\n",
       "<style scoped>\n",
       "    .dataframe tbody tr th:only-of-type {\n",
       "        vertical-align: middle;\n",
       "    }\n",
       "\n",
       "    .dataframe tbody tr th {\n",
       "        vertical-align: top;\n",
       "    }\n",
       "\n",
       "    .dataframe thead th {\n",
       "        text-align: right;\n",
       "    }\n",
       "</style>\n",
       "<table border=\"1\" class=\"dataframe\">\n",
       "  <thead>\n",
       "    <tr style=\"text-align: right;\">\n",
       "      <th>f_educcat</th>\n",
       "      <th>College graduate+</th>\n",
       "      <th>H.S. graduate or less</th>\n",
       "      <th>Refused</th>\n",
       "      <th>Some College</th>\n",
       "    </tr>\n",
       "    <tr>\n",
       "      <th>covidplantrue_w68</th>\n",
       "      <th></th>\n",
       "      <th></th>\n",
       "      <th></th>\n",
       "      <th></th>\n",
       "    </tr>\n",
       "  </thead>\n",
       "  <tbody>\n",
       "    <tr>\n",
       "      <th>Definitely NOT true</th>\n",
       "      <td>0.730372</td>\n",
       "      <td>0.050695</td>\n",
       "      <td>0.000449</td>\n",
       "      <td>0.218484</td>\n",
       "    </tr>\n",
       "    <tr>\n",
       "      <th>Definitely true</th>\n",
       "      <td>0.312865</td>\n",
       "      <td>0.292398</td>\n",
       "      <td>0.002924</td>\n",
       "      <td>0.391813</td>\n",
       "    </tr>\n",
       "    <tr>\n",
       "      <th>Not sure</th>\n",
       "      <td>0.372789</td>\n",
       "      <td>0.229932</td>\n",
       "      <td>0.004082</td>\n",
       "      <td>0.393197</td>\n",
       "    </tr>\n",
       "    <tr>\n",
       "      <th>Probably NOT true</th>\n",
       "      <td>0.580943</td>\n",
       "      <td>0.112705</td>\n",
       "      <td>0.001025</td>\n",
       "      <td>0.305328</td>\n",
       "    </tr>\n",
       "    <tr>\n",
       "      <th>Probably true</th>\n",
       "      <td>0.351613</td>\n",
       "      <td>0.223226</td>\n",
       "      <td>0.001935</td>\n",
       "      <td>0.423226</td>\n",
       "    </tr>\n",
       "    <tr>\n",
       "      <th>Refused</th>\n",
       "      <td>0.400000</td>\n",
       "      <td>0.200000</td>\n",
       "      <td>0.100000</td>\n",
       "      <td>0.300000</td>\n",
       "    </tr>\n",
       "  </tbody>\n",
       "</table>\n",
       "</div>"
      ],
      "text/plain": [
       "f_educcat            College graduate+  H.S. graduate or less   Refused  \\\n",
       "covidplantrue_w68                                                         \n",
       "Definitely NOT true           0.730372               0.050695  0.000449   \n",
       "Definitely true               0.312865               0.292398  0.002924   \n",
       "Not sure                      0.372789               0.229932  0.004082   \n",
       "Probably NOT true             0.580943               0.112705  0.001025   \n",
       "Probably true                 0.351613               0.223226  0.001935   \n",
       "Refused                       0.400000               0.200000  0.100000   \n",
       "\n",
       "f_educcat            Some College  \n",
       "covidplantrue_w68                  \n",
       "Definitely NOT true      0.218484  \n",
       "Definitely true          0.391813  \n",
       "Not sure                 0.393197  \n",
       "Probably NOT true        0.305328  \n",
       "Probably true            0.423226  \n",
       "Refused                  0.300000  "
      ]
     },
     "execution_count": 32,
     "metadata": {},
     "output_type": "execute_result"
    }
   ],
   "source": [
    "edu_plan_true = pd.crosstab([df68.covidplantrue_w68], [df68.f_educcat], normalize='index')\n",
    "edu_plan_true"
   ]
  },
  {
   "cell_type": "code",
   "execution_count": 33,
   "id": "reliable-psychiatry",
   "metadata": {},
   "outputs": [
    {
     "data": {
      "text/html": [
       "<div>\n",
       "<style scoped>\n",
       "    .dataframe tbody tr th:only-of-type {\n",
       "        vertical-align: middle;\n",
       "    }\n",
       "\n",
       "    .dataframe tbody tr th {\n",
       "        vertical-align: top;\n",
       "    }\n",
       "\n",
       "    .dataframe thead th {\n",
       "        text-align: right;\n",
       "    }\n",
       "</style>\n",
       "<table border=\"1\" class=\"dataframe\">\n",
       "  <thead>\n",
       "    <tr style=\"text-align: right;\">\n",
       "      <th>covidplanhrd_w68</th>\n",
       "      <th>A little</th>\n",
       "      <th>A lot</th>\n",
       "      <th>Nothing at all</th>\n",
       "      <th>Refused</th>\n",
       "    </tr>\n",
       "    <tr>\n",
       "      <th>f_educcat</th>\n",
       "      <th></th>\n",
       "      <th></th>\n",
       "      <th></th>\n",
       "      <th></th>\n",
       "    </tr>\n",
       "  </thead>\n",
       "  <tbody>\n",
       "    <tr>\n",
       "      <th>College graduate+</th>\n",
       "      <td>0.571981</td>\n",
       "      <td>0.107695</td>\n",
       "      <td>0.317563</td>\n",
       "      <td>0.002761</td>\n",
       "    </tr>\n",
       "    <tr>\n",
       "      <th>H.S. graduate or less</th>\n",
       "      <td>0.503765</td>\n",
       "      <td>0.211596</td>\n",
       "      <td>0.274849</td>\n",
       "      <td>0.009789</td>\n",
       "    </tr>\n",
       "    <tr>\n",
       "      <th>Refused</th>\n",
       "      <td>0.388889</td>\n",
       "      <td>0.222222</td>\n",
       "      <td>0.333333</td>\n",
       "      <td>0.055556</td>\n",
       "    </tr>\n",
       "    <tr>\n",
       "      <th>Some College</th>\n",
       "      <td>0.556328</td>\n",
       "      <td>0.196453</td>\n",
       "      <td>0.243741</td>\n",
       "      <td>0.003477</td>\n",
       "    </tr>\n",
       "  </tbody>\n",
       "</table>\n",
       "</div>"
      ],
      "text/plain": [
       "covidplanhrd_w68       A little     A lot  Nothing at all   Refused\n",
       "f_educcat                                                          \n",
       "College graduate+      0.571981  0.107695        0.317563  0.002761\n",
       "H.S. graduate or less  0.503765  0.211596        0.274849  0.009789\n",
       "Refused                0.388889  0.222222        0.333333  0.055556\n",
       "Some College           0.556328  0.196453        0.243741  0.003477"
      ]
     },
     "execution_count": 33,
     "metadata": {},
     "output_type": "execute_result"
    }
   ],
   "source": [
    "edu_plan_heard = pd.crosstab([df68.f_educcat], [df68.covidplanhrd_w68], normalize='index')\n",
    "edu_plan_heard"
   ]
  },
  {
   "cell_type": "code",
   "execution_count": 34,
   "id": "encouraging-westminster",
   "metadata": {},
   "outputs": [
    {
     "data": {
      "text/html": [
       "<div>\n",
       "<style scoped>\n",
       "    .dataframe tbody tr th:only-of-type {\n",
       "        vertical-align: middle;\n",
       "    }\n",
       "\n",
       "    .dataframe tbody tr th {\n",
       "        vertical-align: top;\n",
       "    }\n",
       "\n",
       "    .dataframe thead th {\n",
       "        text-align: right;\n",
       "    }\n",
       "</style>\n",
       "<table border=\"1\" class=\"dataframe\">\n",
       "  <thead>\n",
       "    <tr style=\"text-align: right;\">\n",
       "      <th>covidinfodiff_w68</th>\n",
       "      <th>Difficult to determine what is true and what is not</th>\n",
       "      <th>Easy to determine what is true and what is not</th>\n",
       "      <th>Refused</th>\n",
       "    </tr>\n",
       "    <tr>\n",
       "      <th>f_party_final</th>\n",
       "      <th></th>\n",
       "      <th></th>\n",
       "      <th></th>\n",
       "    </tr>\n",
       "  </thead>\n",
       "  <tbody>\n",
       "    <tr>\n",
       "      <th>Democrat</th>\n",
       "      <td>0.350276</td>\n",
       "      <td>0.635492</td>\n",
       "      <td>0.014232</td>\n",
       "    </tr>\n",
       "    <tr>\n",
       "      <th>Independent</th>\n",
       "      <td>0.531491</td>\n",
       "      <td>0.451714</td>\n",
       "      <td>0.016795</td>\n",
       "    </tr>\n",
       "    <tr>\n",
       "      <th>Refused</th>\n",
       "      <td>0.500000</td>\n",
       "      <td>0.355556</td>\n",
       "      <td>0.144444</td>\n",
       "    </tr>\n",
       "    <tr>\n",
       "      <th>Republican</th>\n",
       "      <td>0.672581</td>\n",
       "      <td>0.312632</td>\n",
       "      <td>0.014787</td>\n",
       "    </tr>\n",
       "    <tr>\n",
       "      <th>Something else</th>\n",
       "      <td>0.534598</td>\n",
       "      <td>0.447545</td>\n",
       "      <td>0.017857</td>\n",
       "    </tr>\n",
       "  </tbody>\n",
       "</table>\n",
       "</div>"
      ],
      "text/plain": [
       "covidinfodiff_w68  Difficult to determine what is true and what is not  \\\n",
       "f_party_final                                                            \n",
       "Democrat                                                    0.350276     \n",
       "Independent                                                 0.531491     \n",
       "Refused                                                     0.500000     \n",
       "Republican                                                  0.672581     \n",
       "Something else                                              0.534598     \n",
       "\n",
       "covidinfodiff_w68  Easy to determine what is true and what is not   Refused  \n",
       "f_party_final                                                                \n",
       "Democrat                                                 0.635492  0.014232  \n",
       "Independent                                              0.451714  0.016795  \n",
       "Refused                                                  0.355556  0.144444  \n",
       "Republican                                               0.312632  0.014787  \n",
       "Something else                                           0.447545  0.017857  "
      ]
     },
     "execution_count": 34,
     "metadata": {},
     "output_type": "execute_result"
    }
   ],
   "source": [
    "diff_party = pd.crosstab([df68.f_party_final], [df68.covidinfodiff_w68], normalize = 'index')\n",
    "diff_party"
   ]
  },
  {
   "cell_type": "code",
   "execution_count": 54,
   "id": "vital-ambassador",
   "metadata": {},
   "outputs": [
    {
     "data": {
      "text/html": [
       "<div>\n",
       "<style scoped>\n",
       "    .dataframe tbody tr th:only-of-type {\n",
       "        vertical-align: middle;\n",
       "    }\n",
       "\n",
       "    .dataframe tbody tr th {\n",
       "        vertical-align: top;\n",
       "    }\n",
       "\n",
       "    .dataframe thead th {\n",
       "        text-align: right;\n",
       "    }\n",
       "</style>\n",
       "<table border=\"1\" class=\"dataframe\">\n",
       "  <thead>\n",
       "    <tr style=\"text-align: right;\">\n",
       "      <th>covidinfodiff_w68</th>\n",
       "      <th>Difficult to determine what is true and what is not</th>\n",
       "      <th>Easy to determine what is true and what is not</th>\n",
       "      <th>Refused</th>\n",
       "    </tr>\n",
       "    <tr>\n",
       "      <th>f_metro</th>\n",
       "      <th></th>\n",
       "      <th></th>\n",
       "      <th></th>\n",
       "    </tr>\n",
       "  </thead>\n",
       "  <tbody>\n",
       "    <tr>\n",
       "      <th>Metropolitan</th>\n",
       "      <td>0.493093</td>\n",
       "      <td>0.490075</td>\n",
       "      <td>0.016831</td>\n",
       "    </tr>\n",
       "    <tr>\n",
       "      <th>Non-metropolitan</th>\n",
       "      <td>0.570741</td>\n",
       "      <td>0.413859</td>\n",
       "      <td>0.015399</td>\n",
       "    </tr>\n",
       "  </tbody>\n",
       "</table>\n",
       "</div>"
      ],
      "text/plain": [
       "covidinfodiff_w68  Difficult to determine what is true and what is not  \\\n",
       "f_metro                                                                  \n",
       "Metropolitan                                                0.493093     \n",
       "Non-metropolitan                                            0.570741     \n",
       "\n",
       "covidinfodiff_w68  Easy to determine what is true and what is not   Refused  \n",
       "f_metro                                                                      \n",
       "Metropolitan                                             0.490075  0.016831  \n",
       "Non-metropolitan                                         0.413859  0.015399  "
      ]
     },
     "execution_count": 54,
     "metadata": {},
     "output_type": "execute_result"
    }
   ],
   "source": [
    "diff_metroy = pd.crosstab([df68.f_metro], [df68.covidinfodiff_w68], normalize = 'index')\n",
    "diff_metroy"
   ]
  },
  {
   "cell_type": "markdown",
   "id": "bored-buffer",
   "metadata": {},
   "source": [
    "And interesting takeaway is that when using cross-tabulation, the x and y axis you choose makes a huge difference. I suspect that it's because the responses are more likely to be evenly distributed than the demographic profiles. The table above would look very skewed if the x and y were swapped because the population of this survey is mastly more metropolitan. "
   ]
  },
  {
   "cell_type": "code",
   "execution_count": 47,
   "id": "floral-shoulder",
   "metadata": {},
   "outputs": [
    {
     "data": {
      "text/html": [
       "<div>\n",
       "<style scoped>\n",
       "    .dataframe tbody tr th:only-of-type {\n",
       "        vertical-align: middle;\n",
       "    }\n",
       "\n",
       "    .dataframe tbody tr th {\n",
       "        vertical-align: top;\n",
       "    }\n",
       "\n",
       "    .dataframe thead th {\n",
       "        text-align: right;\n",
       "    }\n",
       "</style>\n",
       "<table border=\"1\" class=\"dataframe\">\n",
       "  <thead>\n",
       "    <tr style=\"text-align: right;\">\n",
       "      <th>f_metro</th>\n",
       "      <th>Metropolitan</th>\n",
       "      <th>Non-metropolitan</th>\n",
       "    </tr>\n",
       "    <tr>\n",
       "      <th>covidinfodiff_w68</th>\n",
       "      <th></th>\n",
       "      <th></th>\n",
       "    </tr>\n",
       "  </thead>\n",
       "  <tbody>\n",
       "    <tr>\n",
       "      <th>Difficult to determine what is true and what is not</th>\n",
       "      <td>0.877505</td>\n",
       "      <td>0.122495</td>\n",
       "    </tr>\n",
       "    <tr>\n",
       "      <th>Easy to determine what is true and what is not</th>\n",
       "      <td>0.907567</td>\n",
       "      <td>0.092433</td>\n",
       "    </tr>\n",
       "    <tr>\n",
       "      <th>Refused</th>\n",
       "      <td>0.900621</td>\n",
       "      <td>0.099379</td>\n",
       "    </tr>\n",
       "  </tbody>\n",
       "</table>\n",
       "</div>"
      ],
      "text/plain": [
       "f_metro                                             Metropolitan  \\\n",
       "covidinfodiff_w68                                                  \n",
       "Difficult to determine what is true and what is...      0.877505   \n",
       "Easy to determine what is true and what is not          0.907567   \n",
       "Refused                                                 0.900621   \n",
       "\n",
       "f_metro                                             Non-metropolitan  \n",
       "covidinfodiff_w68                                                     \n",
       "Difficult to determine what is true and what is...          0.122495  \n",
       "Easy to determine what is true and what is not              0.092433  \n",
       "Refused                                                     0.099379  "
      ]
     },
     "execution_count": 47,
     "metadata": {},
     "output_type": "execute_result"
    }
   ],
   "source": [
    "diff_metron = pd.crosstab([df68.covidinfodiff_w68], [df68.f_metro], normalize = 'index')\n",
    "diff_metron"
   ]
  },
  {
   "cell_type": "code",
   "execution_count": 48,
   "id": "muslim-vessel",
   "metadata": {},
   "outputs": [
    {
     "data": {
      "text/html": [
       "<div>\n",
       "<style scoped>\n",
       "    .dataframe tbody tr th:only-of-type {\n",
       "        vertical-align: middle;\n",
       "    }\n",
       "\n",
       "    .dataframe tbody tr th {\n",
       "        vertical-align: top;\n",
       "    }\n",
       "\n",
       "    .dataframe thead th {\n",
       "        text-align: right;\n",
       "    }\n",
       "</style>\n",
       "<table border=\"1\" class=\"dataframe\">\n",
       "  <thead>\n",
       "    <tr style=\"text-align: right;\">\n",
       "      <th>f_party_final</th>\n",
       "      <th>Democrat</th>\n",
       "      <th>Independent</th>\n",
       "      <th>Refused</th>\n",
       "      <th>Republican</th>\n",
       "      <th>Something else</th>\n",
       "    </tr>\n",
       "    <tr>\n",
       "      <th>covidplantrue_w68</th>\n",
       "      <th></th>\n",
       "      <th></th>\n",
       "      <th></th>\n",
       "      <th></th>\n",
       "      <th></th>\n",
       "    </tr>\n",
       "  </thead>\n",
       "  <tbody>\n",
       "    <tr>\n",
       "      <th>Definitely NOT true</th>\n",
       "      <td>1190</td>\n",
       "      <td>675</td>\n",
       "      <td>7</td>\n",
       "      <td>191</td>\n",
       "      <td>166</td>\n",
       "    </tr>\n",
       "    <tr>\n",
       "      <th>Definitely true</th>\n",
       "      <td>53</td>\n",
       "      <td>93</td>\n",
       "      <td>4</td>\n",
       "      <td>149</td>\n",
       "      <td>43</td>\n",
       "    </tr>\n",
       "    <tr>\n",
       "      <th>Not sure</th>\n",
       "      <td>185</td>\n",
       "      <td>220</td>\n",
       "      <td>22</td>\n",
       "      <td>217</td>\n",
       "      <td>91</td>\n",
       "    </tr>\n",
       "    <tr>\n",
       "      <th>Probably NOT true</th>\n",
       "      <td>607</td>\n",
       "      <td>591</td>\n",
       "      <td>13</td>\n",
       "      <td>560</td>\n",
       "      <td>181</td>\n",
       "    </tr>\n",
       "    <tr>\n",
       "      <th>Probably true</th>\n",
       "      <td>361</td>\n",
       "      <td>433</td>\n",
       "      <td>14</td>\n",
       "      <td>583</td>\n",
       "      <td>159</td>\n",
       "    </tr>\n",
       "    <tr>\n",
       "      <th>Refused</th>\n",
       "      <td>3</td>\n",
       "      <td>4</td>\n",
       "      <td>1</td>\n",
       "      <td>2</td>\n",
       "      <td>0</td>\n",
       "    </tr>\n",
       "  </tbody>\n",
       "</table>\n",
       "</div>"
      ],
      "text/plain": [
       "f_party_final        Democrat  Independent  Refused  Republican  \\\n",
       "covidplantrue_w68                                                 \n",
       "Definitely NOT true      1190          675        7         191   \n",
       "Definitely true            53           93        4         149   \n",
       "Not sure                  185          220       22         217   \n",
       "Probably NOT true         607          591       13         560   \n",
       "Probably true             361          433       14         583   \n",
       "Refused                     3            4        1           2   \n",
       "\n",
       "f_party_final        Something else  \n",
       "covidplantrue_w68                    \n",
       "Definitely NOT true             166  \n",
       "Definitely true                  43  \n",
       "Not sure                         91  \n",
       "Probably NOT true               181  \n",
       "Probably true                   159  \n",
       "Refused                           0  "
      ]
     },
     "execution_count": 48,
     "metadata": {},
     "output_type": "execute_result"
    }
   ],
   "source": [
    "plan_party = pd.crosstab([df68.covidplantrue_w68], [df68.f_party_final])\n",
    "plan_party"
   ]
  },
  {
   "cell_type": "code",
   "execution_count": 49,
   "id": "retained-constant",
   "metadata": {},
   "outputs": [
    {
     "data": {
      "text/html": [
       "<div>\n",
       "<style scoped>\n",
       "    .dataframe tbody tr th:only-of-type {\n",
       "        vertical-align: middle;\n",
       "    }\n",
       "\n",
       "    .dataframe tbody tr th {\n",
       "        vertical-align: top;\n",
       "    }\n",
       "\n",
       "    .dataframe thead th {\n",
       "        text-align: right;\n",
       "    }\n",
       "</style>\n",
       "<table border=\"1\" class=\"dataframe\">\n",
       "  <thead>\n",
       "    <tr style=\"text-align: right;\">\n",
       "      <th>f_party_final</th>\n",
       "      <th>Democrat</th>\n",
       "      <th>Independent</th>\n",
       "      <th>Refused</th>\n",
       "      <th>Republican</th>\n",
       "      <th>Something else</th>\n",
       "    </tr>\n",
       "    <tr>\n",
       "      <th>covidplantrue_w68</th>\n",
       "      <th></th>\n",
       "      <th></th>\n",
       "      <th></th>\n",
       "      <th></th>\n",
       "      <th></th>\n",
       "    </tr>\n",
       "  </thead>\n",
       "  <tbody>\n",
       "    <tr>\n",
       "      <th>Definitely NOT true</th>\n",
       "      <td>0.533872</td>\n",
       "      <td>0.302826</td>\n",
       "      <td>0.003140</td>\n",
       "      <td>0.085689</td>\n",
       "      <td>0.074473</td>\n",
       "    </tr>\n",
       "    <tr>\n",
       "      <th>Definitely true</th>\n",
       "      <td>0.154971</td>\n",
       "      <td>0.271930</td>\n",
       "      <td>0.011696</td>\n",
       "      <td>0.435673</td>\n",
       "      <td>0.125731</td>\n",
       "    </tr>\n",
       "    <tr>\n",
       "      <th>Not sure</th>\n",
       "      <td>0.251701</td>\n",
       "      <td>0.299320</td>\n",
       "      <td>0.029932</td>\n",
       "      <td>0.295238</td>\n",
       "      <td>0.123810</td>\n",
       "    </tr>\n",
       "    <tr>\n",
       "      <th>Probably NOT true</th>\n",
       "      <td>0.310963</td>\n",
       "      <td>0.302766</td>\n",
       "      <td>0.006660</td>\n",
       "      <td>0.286885</td>\n",
       "      <td>0.092725</td>\n",
       "    </tr>\n",
       "    <tr>\n",
       "      <th>Probably true</th>\n",
       "      <td>0.232903</td>\n",
       "      <td>0.279355</td>\n",
       "      <td>0.009032</td>\n",
       "      <td>0.376129</td>\n",
       "      <td>0.102581</td>\n",
       "    </tr>\n",
       "    <tr>\n",
       "      <th>Refused</th>\n",
       "      <td>0.300000</td>\n",
       "      <td>0.400000</td>\n",
       "      <td>0.100000</td>\n",
       "      <td>0.200000</td>\n",
       "      <td>0.000000</td>\n",
       "    </tr>\n",
       "  </tbody>\n",
       "</table>\n",
       "</div>"
      ],
      "text/plain": [
       "f_party_final        Democrat  Independent   Refused  Republican  \\\n",
       "covidplantrue_w68                                                  \n",
       "Definitely NOT true  0.533872     0.302826  0.003140    0.085689   \n",
       "Definitely true      0.154971     0.271930  0.011696    0.435673   \n",
       "Not sure             0.251701     0.299320  0.029932    0.295238   \n",
       "Probably NOT true    0.310963     0.302766  0.006660    0.286885   \n",
       "Probably true        0.232903     0.279355  0.009032    0.376129   \n",
       "Refused              0.300000     0.400000  0.100000    0.200000   \n",
       "\n",
       "f_party_final        Something else  \n",
       "covidplantrue_w68                    \n",
       "Definitely NOT true        0.074473  \n",
       "Definitely true            0.125731  \n",
       "Not sure                   0.123810  \n",
       "Probably NOT true          0.092725  \n",
       "Probably true              0.102581  \n",
       "Refused                    0.000000  "
      ]
     },
     "execution_count": 49,
     "metadata": {},
     "output_type": "execute_result"
    }
   ],
   "source": [
    "plan_party_norm = pd.crosstab([df68.covidplantrue_w68], [df68.f_party_final], normalize = 'index')\n",
    "plan_party_norm"
   ]
  },
  {
   "cell_type": "code",
   "execution_count": 50,
   "id": "diverse-situation",
   "metadata": {},
   "outputs": [],
   "source": [
    "from scipy import stats\n",
    "(chi2, p, dof, _) = stats.chi2_contingency([plan_party.iloc[0].values,plan_party.iloc[1].values])"
   ]
  },
  {
   "cell_type": "code",
   "execution_count": 51,
   "id": "negative-relationship",
   "metadata": {},
   "outputs": [
    {
     "name": "stdout",
     "output_type": "stream",
     "text": [
      "chi2:  378.284207537773\n",
      "p-value:  1.3668042870610206e-80\n",
      "Degrees of Freedom:  4\n"
     ]
    }
   ],
   "source": [
    "print('chi2: ', chi2)\n",
    "print('p-value: ', p)\n",
    "print('Degrees of Freedom: ', dof)"
   ]
  },
  {
   "cell_type": "code",
   "execution_count": 55,
   "id": "adolescent-excerpt",
   "metadata": {},
   "outputs": [],
   "source": [
    "(chi2, p, dof, _) = stats.chi2_contingency([diff_metroy.iloc[0].values,diff_metroy.iloc[1].values])"
   ]
  },
  {
   "cell_type": "code",
   "execution_count": 56,
   "id": "ceramic-spirit",
   "metadata": {},
   "outputs": [
    {
     "name": "stdout",
     "output_type": "stream",
     "text": [
      "chi2:  0.012157187489243253\n",
      "p-value:  0.9939398435298515\n",
      "Degrees of Freedom:  2\n"
     ]
    }
   ],
   "source": [
    "print('chi2: ', chi2)\n",
    "print('p-value: ', p)\n",
    "print('Degrees of Freedom: ', dof)"
   ]
  },
  {
   "cell_type": "code",
   "execution_count": null,
   "id": "female-prototype",
   "metadata": {},
   "outputs": [],
   "source": []
  }
 ],
 "metadata": {
  "kernelspec": {
   "display_name": "Python 3",
   "language": "python",
   "name": "python3"
  },
  "language_info": {
   "codemirror_mode": {
    "name": "ipython",
    "version": 3
   },
   "file_extension": ".py",
   "mimetype": "text/x-python",
   "name": "python",
   "nbconvert_exporter": "python",
   "pygments_lexer": "ipython3",
   "version": "3.8.2"
  }
 },
 "nbformat": 4,
 "nbformat_minor": 5
}
